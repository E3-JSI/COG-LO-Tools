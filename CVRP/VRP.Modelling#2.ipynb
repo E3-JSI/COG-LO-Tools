{
 "cells": [
  {
   "cell_type": "markdown",
   "metadata": {},
   "source": [
    "## VRP SCHEDULING"
   ]
  },
  {
   "cell_type": "code",
   "execution_count": 1,
   "metadata": {},
   "outputs": [],
   "source": [
    "from __future__ import print_function\n",
    "from ortools.linear_solver import pywraplp\n",
    "\n",
    "import numpy as np\n",
    "import scipy as sp\n",
    "from numpy import matrix"
   ]
  },
  {
   "cell_type": "markdown",
   "metadata": {},
   "source": [
    "## Input data"
   ]
  },
  {
   "cell_type": "code",
   "execution_count": 102,
   "metadata": {},
   "outputs": [
    {
     "data": {
      "text/plain": [
       "[[10, 0, 11], [0, 21, 26], [31, 32, 0]]"
      ]
     },
     "execution_count": 102,
     "metadata": {},
     "output_type": "execute_result"
    }
   ],
   "source": [
    "## TEST DATA\n",
    "\n",
    "# load dispatsh matrix - demand\n",
    "    #LJ, CE, MB\n",
    "D = [17, 6, 25]\n",
    "\n",
    "# vehicle load capacity\n",
    "C = [100, 100]\n",
    "\n",
    "#network graph, stopci = povezave 12, 23, 13, vrstice = mesta\n",
    "    #LJ,CE,MB\n",
    "E = [\n",
    "    [10, 0, 11],\n",
    "    [0, 21, 26],\n",
    "    [31, 32, 0],]\n",
    "\n",
    "#E transpose\n",
    "Et= [[E[j][i] for j in range(len(E))] for i in range(len(E[0]))]\n",
    "#-E (negative values)\n",
    "negE = np.negative(E)\n",
    "\n",
    "#number of nodes\n",
    "N = np.size(E,0)\n",
    "#number of edges\n",
    "M = np.size(E,1)\n",
    "#number of vehicles\n",
    "V = np.size(C)\n",
    "\n",
    "#[0, 0, 1, 1, 0, 0]\n",
    "E"
   ]
  },
  {
   "cell_type": "code",
   "execution_count": 73,
   "metadata": {},
   "outputs": [],
   "source": [
    "\n",
    "# load dispatsh matrix - demand\n",
    "    #LJ, CE, MB, KP, NM\n",
    "D = [17, 6, 25, 37, 12]\n",
    "\n",
    "# vehicle load capacity\n",
    "C = [100, 100]\n",
    "\n",
    "#network graph, stopci = povezave 12, 23, 34, 45, 35, 13, vrstice = mesta\n",
    "    #LJ,CE,MB,KP,NM\n",
    "E = [\n",
    "    [10, 0, 0, 0, 16, 11],\n",
    "    [0, 21, 23, 0, 0, 26],\n",
    "    [31, 32, 0, 0, 0, 0],\n",
    "    [0, 0, 0, 44, 45, 0],\n",
    "    [0, 0, 53, 54, 0, 0]]\n",
    "\n",
    "#E transpose\n",
    "Et= [[E[j][i] for j in range(len(E))] for i in range(len(E[0]))]\n",
    "#-E (negative values)\n",
    "negE=np.negative(E)\n",
    "\n",
    "#number of nodes\n",
    "N = np.size(E,0)\n",
    "#number of edges\n",
    "M = np.size(E,1)\n",
    "#number of vehicles\n",
    "V = np.size(C)\n",
    "\n",
    "#[0, 0, 1, 1, 0, 0]\n",
    "#E"
   ]
  },
  {
   "cell_type": "markdown",
   "metadata": {},
   "source": [
    "## Creating matrix A"
   ]
  },
  {
   "cell_type": "code",
   "execution_count": 134,
   "metadata": {},
   "outputs": [],
   "source": [
    "#creating A1 matrix - constraint IV, graph data \n",
    "#number of rows = number of columns (E) x number of cycles * 2 (for negative and positive notation);\n",
    "#columns = [number of columns (E) x number of cycles] + [number of rows (E) x number of cycles]\n",
    "# create zero A1 matrix\n",
    "\n",
    "A1 = np.zeros((len(Et)*V*2, len(E)*V+len(Et)*V*2))\n",
    "for j in range (0, len(Et)):\n",
    "    for k in range (0, V):\n",
    "        for i in range (0, len(E)):\n",
    "            A1[j*V+k][k*len(E)+i]=Et[j][i]\n",
    "            #print (j*V+k, k*len(E)+i, j, i) #=np.negative(Et[j][i])\n",
    "for j in range (0, len(Et)):\n",
    "    for k in range (0, V):\n",
    "        for i in range (0, len(E)):\n",
    "            A1[len(Et)*V+j*V+k][k*len(E)+i]=np.negative(Et[j][i])\n",
    "            #print ( len(Et)*V+ j*V+k, k*len(E)+i, j, i) #=np.negative(Et[j][i])\n",
    "            \n",
    "# Adding coeficients for slack variables \n",
    "for j in range (0, len(Et)*V): \n",
    "    A1[j][len(E)*V+j] = -2\n",
    "for j in range (0, len(Et)*V): \n",
    "    A1 [len(Et)*V+j][len(Et)*V+len(E)*V+j] = 2\n",
    "#A1"
   ]
  },
  {
   "cell_type": "code",
   "execution_count": 135,
   "metadata": {},
   "outputs": [],
   "source": [
    "# creating matrix A2 - II constraint, the number of packets on the node is all patckets dispatched\n",
    "#number of rows: 2 * V + 2* Et = 3 * V\n",
    "#number of columns: Et * V\n",
    "A2 = np.zeros((2*V+2*len(Et), (len(Et)*V))) \n",
    "for j in range (0, V):\n",
    "    for i in range (j*len(Et), (j+1)*len(Et)):\n",
    "        #print(\"value is\", j, i)\n",
    "        A2[j,i]=1\n",
    "for j in range (0, V):\n",
    "    for i in range (j*len(Et), (j+1)*len(Et)):\n",
    "        #print(\"value is\", j+V, i)\n",
    "        A2[V+j,i]=-1       \n",
    "for j in range (0, V*len(Et)):\n",
    "        #print(\"value is\", 2*V+j, j)\n",
    "        A2[2*V+j,j]=-1"
   ]
  },
  {
   "cell_type": "code",
   "execution_count": 136,
   "metadata": {},
   "outputs": [],
   "source": [
    "#concatenate A1 and A2 = A matrix\n",
    "A1extend = np.c_[A1, np.zeros((len(A1), len(A2[0])))]\n",
    "A2extend = np.c_[np.zeros((len(A2), len(A1[0]))), A2]\n",
    "\n",
    "A=A1extend.copy()\n",
    "for i in range (0, len(A2)):\n",
    "    A=np.vstack([A, A2extend[i,:]])"
   ]
  },
  {
   "cell_type": "code",
   "execution_count": null,
   "metadata": {},
   "outputs": [],
   "source": []
  },
  {
   "cell_type": "markdown",
   "metadata": {},
   "source": [
    "## Declaring coeficients for constraints - right side of equation"
   ]
  },
  {
   "cell_type": "code",
   "execution_count": 10,
   "metadata": {},
   "outputs": [],
   "source": [
    "# coeficients for A1 matrix = 0\n",
    "b1=[]\n",
    "for i in range (0, len(A1extend)):\n",
    "    b1.append(0) \n",
    "\n",
    "# coeficients for A2 matrix\n",
    "b2 = D + np.negative(D)\n",
    "for i in range(0, 2*len(Et)):\n",
    "    b2.append(0)\n",
    "    \n",
    "# consolidated vector of coeficients\n",
    "b = b1 + b2"
   ]
  },
  {
   "cell_type": "markdown",
   "metadata": {},
   "source": [
    "## Creating variables"
   ]
  },
  {
   "cell_type": "code",
   "execution_count": 159,
   "metadata": {},
   "outputs": [
    {
     "name": "stdout",
     "output_type": "stream",
     "text": [
      "number of bariables = 24\n"
     ]
    }
   ],
   "source": [
    "# CREATE VARIABLES  X - vector with c11-cnn variables\n",
    "# vsak vektor v matriki X1n = dolžine len(E). \n",
    "#Skupno število vseh vektorjev X1n = len (Et)\n",
    "#X1 - variables on objective function \n",
    "#K - slack variables\n",
    "#Ow - cycles load dispatch variables\n",
    "\n",
    "X1size = len(E) * V   # number of all variables\n",
    "X1 = []\n",
    "for i in range (0, X1size):\n",
    "    var='x'+str(i)\n",
    "    X1.append(var)\n",
    " \n",
    "#creating vector with K variables\n",
    "K = []\n",
    "for j in range (0, len(A1)):\n",
    "    #creating vector with K variables\n",
    "    var='k'+str(j)\n",
    "    K.append(var)\n",
    "    \n",
    "#creating vector with O variables\n",
    "Ow = []\n",
    "for j in range(0, V*len(Et)):\n",
    "    var='Ow'+str(j)\n",
    "    Ow.append(var)\n",
    "    \n",
    "#Final X vector vith all variables\n",
    "X=X1.copy()\n",
    "for i in range (0,len(K)):\n",
    "    X.append(K[i])\n",
    "    #print (K[i])\n",
    "\n",
    "for j in range (0,len(Ow)):\n",
    "    X.append(Ow[j])\n",
    "print(\"number of bariables =\", len(X))"
   ]
  },
  {
   "cell_type": "code",
   "execution_count": 160,
   "metadata": {},
   "outputs": [
    {
     "name": "stdout",
     "output_type": "stream",
     "text": [
      "Number of variables created = 24\n"
     ]
    }
   ],
   "source": [
    "## Declaring variables to the solver\n",
    "\n",
    "#Declaring the solver\n",
    "solver = pywraplp.Solver('SolveIntegerProblem',\n",
    "                           pywraplp.Solver.CBC_MIXED_INTEGER_PROGRAMMING)\n",
    "\n",
    "x_min = 0.0                                # lower variables border \n",
    "x_max = solver.infinity()                  # Upper variables border                        \n",
    "#X_int=X1\n",
    "#X_real=K\n",
    "#def declare_variables(X_int, X_real,x_min, x_max):\n",
    "\n",
    "variables = [] \n",
    "\n",
    "for varN, xi_name in enumerate(X1):                          # declaring objective variables \n",
    "    variables.append(solver.IntVar(x_min, x_max, xi_name))\n",
    "    \n",
    "for varN, xi_name in enumerate(K):                          # declaring slack variables\n",
    "    variables.append(solver.NumVar(x_min, x_max, xi_name))\n",
    "\n",
    "for varN, xi_name in enumerate(Ow):                          # declaring load doispatch variables\n",
    "    variables.append(solver.IntVar(x_min, x_max, xi_name))\n",
    "\n",
    "print('Number of variables created =', solver.NumVariables())\n",
    "    #for variable in variables:\n",
    "        #print('%s = %d' % (variable.name(), variable.solution_value()))"
   ]
  },
  {
   "cell_type": "code",
   "execution_count": null,
   "metadata": {},
   "outputs": [],
   "source": []
  },
  {
   "cell_type": "markdown",
   "metadata": {},
   "source": [
    "## Declare constraints"
   ]
  },
  {
   "cell_type": "code",
   "execution_count": 161,
   "metadata": {},
   "outputs": [
    {
     "name": "stdout",
     "output_type": "stream",
     "text": [
      "Number of constraints added = 22\n"
     ]
    }
   ],
   "source": [
    "\n",
    "b = np.zeros((1, len(A)))           # coeficients on the right side of constraint equation\n",
    "\n",
    "for rowN, row in enumerate(A):\n",
    "    left_side = None\n",
    "    for colN, coeff in enumerate(row):\n",
    "        if coeff == 0:\n",
    "            continue\n",
    "        if left_side is None:\n",
    "            left_side = coeff*variables[colN]\n",
    "        else:\n",
    "            left_side += coeff*variables[colN]\n",
    "    if left_side is None and b[0,rowN] < 0:\n",
    "        raise ValueError('Constraint ' + str(rowN) + ' cannot be satisfied!')\n",
    "    if left_side is not None:\n",
    "        solver.Add(left_side <= b[0,rowN])\n",
    "        \n",
    "print('Number of constraints added =', solver.NumConstraints())"
   ]
  },
  {
   "cell_type": "markdown",
   "metadata": {},
   "source": [
    "## Declare Objective Function"
   ]
  },
  {
   "cell_type": "code",
   "execution_count": 162,
   "metadata": {},
   "outputs": [],
   "source": [
    "# declare objective function: x0+x1+x2+x3+x4+......\n",
    "\n",
    "#C1 = [variables[0], variables[1], variables[2], variables[3], variables[4], variables[5]]\n",
    "C = []\n",
    "for i in range (0, len(X1)):\n",
    "    C.append(variables[i])\n",
    "objective = sum (C)\n",
    "solver.Minimize(objective)\n",
    "\n",
    "# Weights for prioritizing different variables\n",
    "#wgt_X1 = 1.0\n",
    "#X1_coeffs = [ wgt_X1 for _ in X1 ]\n",
    "#for coeffN, coeff in enumerate(X1_coeffs):\n",
    "#    if coeff != 0:\n",
    "#        C += coeff*X1[coeffN]\n",
    "\n",
    "        \n",
    "#print(C)\n",
    "#print(sum(C))\n",
    "\n",
    "#solver.Maximize(x0 + x1 + x2 + x3 + x4 + x5 + x6 +x7 + x8 + x9)   "
   ]
  },
  {
   "cell_type": "markdown",
   "metadata": {},
   "source": [
    "## Invoke the solver"
   ]
  },
  {
   "cell_type": "code",
   "execution_count": 163,
   "metadata": {},
   "outputs": [],
   "source": [
    "result_status = solver.Solve()\n",
    "    # The problem has an optimal solution.\n",
    "assert result_status == pywraplp.Solver.OPTIMAL"
   ]
  },
  {
   "cell_type": "code",
   "execution_count": 164,
   "metadata": {},
   "outputs": [
    {
     "name": "stdout",
     "output_type": "stream",
     "text": [
      "Solution:\n",
      "Objective value = 0.0\n",
      "Number of variables = 24\n",
      "Number of constraints = 22\n",
      "x0 = 0.0\n",
      "x1 = 0.0\n",
      "x2 = 0.0\n",
      "x3 = 0.0\n",
      "x4 = 0.0\n",
      "x5 = 0.0\n",
      "x6 = 0.0\n",
      "x7 = 0.0\n",
      "x8 = 0.0\n",
      "x9 = 0.0\n",
      "\n",
      "Advanced usage:\n",
      "Problem solved in 92839.000000 milliseconds\n",
      "Problem solved in 0 iterations\n",
      "Problem solved in 0 branch-and-bound nodes\n"
     ]
    }
   ],
   "source": [
    "assert solver.VerifySolution(1e-7, True)\n",
    "\n",
    "print('Solution:')\n",
    "print('Objective value =', solver.Objective().Value())\n",
    "print('Number of variables =', solver.NumVariables())\n",
    "print('Number of constraints =', solver.NumConstraints())\n",
    "print('x0 =', variables[0].solution_value())\n",
    "print('x1 =', variables[1].solution_value())\n",
    "print('x2 =', variables[2].solution_value())\n",
    "print('x3 =', variables[3].solution_value())\n",
    "print('x4 =', variables[4].solution_value())\n",
    "print('x5 =', variables[5].solution_value())\n",
    "print('x6 =', variables[6].solution_value())\n",
    "print('x7 =', variables[7].solution_value())\n",
    "print('x8 =', variables[8].solution_value())\n",
    "print('x9 =', variables[9].solution_value())\n",
    "\n",
    "print('\\nAdvanced usage:')\n",
    "print('Problem solved in %f milliseconds' % solver.wall_time())\n",
    "print('Problem solved in %d iterations' % solver.iterations())\n",
    "print('Problem solved in %d branch-and-bound nodes' % solver.nodes())"
   ]
  },
  {
   "cell_type": "code",
   "execution_count": null,
   "metadata": {},
   "outputs": [],
   "source": []
  },
  {
   "cell_type": "code",
   "execution_count": null,
   "metadata": {},
   "outputs": [],
   "source": []
  },
  {
   "cell_type": "code",
   "execution_count": null,
   "metadata": {},
   "outputs": [],
   "source": []
  },
  {
   "cell_type": "code",
   "execution_count": null,
   "metadata": {},
   "outputs": [],
   "source": []
  }
 ],
 "metadata": {
  "kernelspec": {
   "display_name": "Python 3",
   "language": "python",
   "name": "python3"
  },
  "language_info": {
   "codemirror_mode": {
    "name": "ipython",
    "version": 3
   },
   "file_extension": ".py",
   "mimetype": "text/x-python",
   "name": "python",
   "nbconvert_exporter": "python",
   "pygments_lexer": "ipython3",
   "version": "3.7.3"
  }
 },
 "nbformat": 4,
 "nbformat_minor": 2
}
