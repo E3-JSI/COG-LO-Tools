{
 "cells": [
  {
   "cell_type": "markdown",
   "metadata": {},
   "source": [
    "## VRP SHEDULING"
   ]
  },
  {
   "cell_type": "code",
   "execution_count": 64,
   "metadata": {},
   "outputs": [],
   "source": [
    "from __future__ import print_function\n",
    "from ortools.linear_solver import pywraplp\n",
    "import numpy as np\n",
    "import scipy as sp\n",
    "from numpy import matrix"
   ]
  },
  {
   "cell_type": "markdown",
   "metadata": {},
   "source": [
    "## Input data"
   ]
  },
  {
   "cell_type": "code",
   "execution_count": 65,
   "metadata": {},
   "outputs": [
    {
     "data": {
      "text/plain": [
       "[[10, 0, 11], [0, 21, 26], [31, 32, 0]]"
      ]
     },
     "execution_count": 65,
     "metadata": {},
     "output_type": "execute_result"
    }
   ],
   "source": [
    "## TEST DATA - SMALL USE CASE\n",
    "\n",
    "# load dispatsh matrix - demand\n",
    "    #LJ, CE, MB\n",
    "D = [17, 6, 25]\n",
    "\n",
    "# vehicle load capacity\n",
    "C = [100, 100]\n",
    "\n",
    "#network graph, stopci = povezave 12, 23, 13, vrstice = mesta\n",
    "    #LJ,CE,MB\n",
    "E = [\n",
    "    [10, 0, 11],\n",
    "    [0, 21, 26],\n",
    "    [31, 32, 0],]\n",
    "\n",
    "#E transpose\n",
    "Et= [[E[j][i] for j in range(len(E))] for i in range(len(E[0]))]\n",
    "\n",
    "#number of nodes\n",
    "N = np.size(E,0)\n",
    "#number of edges\n",
    "M = np.size(E,1)\n",
    "#number of vehicles\n",
    "V = np.size(C)\n",
    "\n",
    "E"
   ]
  },
  {
   "cell_type": "code",
   "execution_count": 474,
   "metadata": {},
   "outputs": [
    {
     "data": {
      "text/plain": [
       "[[10, 0, 0, 0, 16, 11],\n",
       " [0, 21, 23, 0, 0, 26],\n",
       " [31, 32, 0, 0, 0, 0],\n",
       " [0, 0, 0, 44, 45, 0],\n",
       " [0, 0, 53, 54, 0, 0]]"
      ]
     },
     "execution_count": 474,
     "metadata": {},
     "output_type": "execute_result"
    }
   ],
   "source": [
    "\n",
    "# load dispatsh matrix - demand\n",
    "    #LJ, CE, MB, KP, NM\n",
    "D = [17, 6, 25, 37, 12]\n",
    "\n",
    "# vehicle load capacity\n",
    "C = [100, 100, 100]\n",
    "\n",
    "#network graph, stopci = povezave 12, 23, 34, 45, 35, 13, vrstice = mesta\n",
    "    #LJ,CE,MB,KP,NM\n",
    "E = [\n",
    "    [10, 0, 0, 0, 16, 11],\n",
    "    [0, 21, 23, 0, 0, 26],\n",
    "    [31, 32, 0, 0, 0, 0],\n",
    "    [0, 0, 0, 44, 45, 0],\n",
    "    [0, 0, 53, 54, 0, 0]]\n",
    "\n",
    "#E transpose\n",
    "Et= [[E[j][i] for j in range(len(E))] for i in range(len(E[0]))]\n",
    "#-E (negative values)\n",
    "negE=np.negative(E)\n",
    "\n",
    "#number of nodes\n",
    "N = np.size(E,0)\n",
    "#number of edges\n",
    "M = np.size(E,1)\n",
    "#number of vehicles\n",
    "V = np.size(C)\n",
    "\n",
    "#[0, 0, 1, 1, 0, 0]\n",
    "E"
   ]
  },
  {
   "cell_type": "markdown",
   "metadata": {},
   "source": [
    "## Creating Constraint matrix A"
   ]
  },
  {
   "cell_type": "code",
   "execution_count": 66,
   "metadata": {},
   "outputs": [],
   "source": [
    "#creating A1 matrix - constraint IV, graph data \n",
    "#number of rows = number of columns (E) x number of cycles * 2 (for negative and positive notation);\n",
    "#columns = [number of columns (E) x number of cycles] + [number of rows (E) x number of cycles]\n",
    "# create zero A1 matrix\n",
    "#len(Et) = number ob edges\n",
    "#len(E) = number of nodes\n",
    "# V = number of cycles\n",
    "\n",
    "A1 = np.zeros((len(Et)*V*2, len(E)*V+len(Et)*V*2))\n",
    "for j in range (0, len(Et)):\n",
    "    for k in range (0, V):\n",
    "        for i in range (0, len(E)):\n",
    "            A1[j*V+k][k*len(E)+i]=Et[j][i]\n",
    "            #print (j*V+k, k*len(E)+i, j, i) #=np.negative(Et[j][i])\n",
    "for j in range (0, len(Et)):\n",
    "    for k in range (0, V):\n",
    "        for i in range (0, len(E)):\n",
    "            A1[len(Et)*V+j*V+k][k*len(E)+i]=np.negative(Et[j][i])\n",
    "            #print ( len(Et)*V+ j*V+k, k*len(E)+i, j, i) #=np.negative(Et[j][i])\n",
    "            \n",
    "# Adding coeficients for slack variables \n",
    "for j in range (0, len(Et)*V): \n",
    "    A1[j][len(E)*V+j] = -2\n",
    "for j in range (0, len(Et)*V): \n",
    "    A1 [len(Et)*V+j][len(Et)*V+len(E)*V+j] = 2"
   ]
  },
  {
   "cell_type": "code",
   "execution_count": 67,
   "metadata": {},
   "outputs": [],
   "source": [
    "# creating matrix A2\n",
    "\n",
    "    #number of rows: 2 * num. of cycles * num. of nodes (constraint II) + num of cycles (constraint III)\n",
    "    #number of columns: 2 * num. of cycles * num. of nodes\n",
    "    \n",
    "#II constraint, the number of packets delivered on the node is equal to all total demand on the node\n",
    "size= (2*len(E)+ (V*len(E)))\n",
    "A2 = np.zeros((size, (len(E)*V)))\n",
    "       \n",
    "for j in range (0, len(E)):            #adding constraints load on nodes\n",
    "    for i in range (j*V, (j+1)*V):\n",
    "        #print(\"value is\", j, i)\n",
    "        A2[j,i]=1\n",
    "for j in range (0, len(E)):\n",
    "    for i in range (j*V, (j+1)*V):\n",
    "        #print(\"value is\", j+V, i)\n",
    "        A2[len(E)+j,i]=-1       \n",
    "for j in range (0, V*len(E)):         #adding constraints for slack variables\n",
    "        #print(\"value is\", 2*V+j, j)\n",
    "        A2[2*len(E)+j,j]=-1"
   ]
  },
  {
   "cell_type": "code",
   "execution_count": 68,
   "metadata": {},
   "outputs": [],
   "source": [
    "#ADDING CONSTRAINT III to A2 matrix: \n",
    "A3 = np.zeros((V, (len(E)*V)))\n",
    "for j in range (0, V):                                  # for each vehicle\n",
    "    for i in range (0, len(E)):                         #take the sum of load on enach node\n",
    "        #print(\"j\", j+i*V)       \n",
    "        A3[j,j+i*V]=1\n",
    "\n",
    "for i in range (0, len(A3)):                            #add lines to A2 matrix\n",
    "    A2=np.vstack([A2, A3[i,:]])"
   ]
  },
  {
   "cell_type": "code",
   "execution_count": 69,
   "metadata": {},
   "outputs": [],
   "source": [
    "#concatenate A1 and A2 = A matrix\n",
    "A1extend = np.c_[A1, np.zeros((len(A1), len(A2[0])))]\n",
    "A2extend = np.c_[np.zeros((len(A2), len(A1[0]))), A2]\n",
    "\n",
    "A=A1extend.copy()\n",
    "for i in range (0, len(A2)):\n",
    "    A=np.vstack([A, A2extend[i,:]])"
   ]
  },
  {
   "cell_type": "markdown",
   "metadata": {},
   "source": [
    "## Creating & declaring variables"
   ]
  },
  {
   "cell_type": "code",
   "execution_count": 70,
   "metadata": {},
   "outputs": [
    {
     "name": "stdout",
     "output_type": "stream",
     "text": [
      "number of variables = 24\n"
     ]
    }
   ],
   "source": [
    "# CREATE VARIABLES  X - vector with c11-cnn variables\n",
    "# vsak vektor v matriki X1n = dolžine len(E). \n",
    "#Skupno število vseh vektorjev X1n = len (Et)\n",
    "#X variables X[0] to X[len(E) * V -1] -  variables in objective function \n",
    "#K - X[len(E) * V] to X[len(E) * V + len(A1) -1]  slack variables\n",
    "#Ow - cycles load dispatch variables - X[len(E) * V + len(Et)*V*2] to X[len(E) * V + len(Et)*V*3 -1 ] \n",
    "\n",
    "X1size = len(E) * V   # number of all variables\n",
    "X1 = []\n",
    "for i in range (0, X1size):\n",
    "    var='x'+str(i)\n",
    "    X1.append(var)\n",
    " \n",
    "#creating vector with K variables\n",
    "K = []\n",
    "for j in range (0, len(A1)):\n",
    "    #creating vector with K variables\n",
    "    var='k'+str(j)\n",
    "    K.append(var)\n",
    "    \n",
    "#creating vector with \"O\" variables\n",
    "Ow = []\n",
    "for j in range(0, V*len(Et)):\n",
    "    var='Ow'+str(j)\n",
    "    Ow.append(var)\n",
    "    \n",
    "#Final X vector with all variables\n",
    "X=X1.copy()\n",
    "for i in range (0,len(K)):\n",
    "    X.append(K[i])\n",
    "    #print (K[i])\n",
    "\n",
    "for j in range (0,len(Ow)):\n",
    "    X.append(Ow[j])\n",
    "print(\"number of variables =\", len(X))"
   ]
  },
  {
   "cell_type": "code",
   "execution_count": 71,
   "metadata": {},
   "outputs": [
    {
     "name": "stdout",
     "output_type": "stream",
     "text": [
      "Number of variables created = 24\n"
     ]
    }
   ],
   "source": [
    "## Declaring variables to the solver\n",
    "\n",
    "#Declaring the solver\n",
    "solver = pywraplp.Solver('SolveIntegerProblem',\n",
    "                           pywraplp.Solver.CBC_MIXED_INTEGER_PROGRAMMING)\n",
    "\n",
    "x_min = 0.0                                # lower variables border \n",
    "x_max = solver.infinity()                  # Upper variables border                        \n",
    "#X_int=X1\n",
    "#X_real=K\n",
    "#def declare_variables(X_int, X_real,x_min, x_max):\n",
    "\n",
    "variables = [] \n",
    "\n",
    "for varN, xi_name in enumerate(X1):                          # declaring objective variables \n",
    "    variables.append(solver.IntVar(x_min, x_max, xi_name))\n",
    "    \n",
    "for varN, xi_name in enumerate(K):                          # declaring slack variables\n",
    "    variables.append(solver.NumVar(x_min, x_max, xi_name))\n",
    "\n",
    "for varN, xi_name in enumerate(Ow):                          # declaring load doispatch variables\n",
    "    variables.append(solver.IntVar(x_min, x_max, xi_name))\n",
    "\n",
    "print('Number of variables created =', solver.NumVariables())\n",
    "    #for variable in variables:\n",
    "        #print('%s = %d' % (variable.name(), variable.solution_value()))"
   ]
  },
  {
   "cell_type": "markdown",
   "metadata": {},
   "source": [
    "## Declare constraints"
   ]
  },
  {
   "cell_type": "code",
   "execution_count": 74,
   "metadata": {},
   "outputs": [],
   "source": [
    "#EQUATIONS COEFICIENTS \n",
    "\n",
    "#coeficients for constraint I\n",
    "b1=[]\n",
    "for i in range (0, len(A1)):\n",
    "    b1.append(0)\n",
    "\n",
    "# coeficients for A2 matrix: b2+b3\n",
    "b21=[]\n",
    "b21 = D + [-val for val in D] \n",
    "b22=[]\n",
    "for i in range (0, V*len(E)):\n",
    "    b22.append(0)\n",
    "#coeficients for A3 constraint III ; b3 = C, vector of vehicle capacities\n",
    "if len(b21+b22+C) != len(A2):\n",
    "    print(\"Error on A2 constants\")\n",
    "b3=C\n",
    "\n",
    "# concatenated vector of constants - b    \n",
    "b= b1 + b21 + b22 + b3\n"
   ]
  },
  {
   "cell_type": "code",
   "execution_count": 75,
   "metadata": {
    "scrolled": false
   },
   "outputs": [
    {
     "name": "stdout",
     "output_type": "stream",
     "text": [
      "Number of constraints added = 26\n"
     ]
    }
   ],
   "source": [
    "#DECLARE CONSTRAINTS\n",
    "#b = np.zeros((1, len(A)))\n",
    "\n",
    "for rowN, row in enumerate(A):\n",
    "    left_side = None\n",
    "    for colN, coeff in enumerate(row):\n",
    "        if coeff == 0:\n",
    "            continue\n",
    "        if left_side is None:\n",
    "            left_side = coeff*variables[colN]\n",
    "        else:\n",
    "            left_side += coeff*variables[colN]\n",
    "    if left_side is None and b[0,rowN] < 0:\n",
    "        raise ValueError('Constraint ' + str(rowN) + ' cannot be satisfied!')\n",
    "    if left_side is not None:\n",
    "        #print (left_side)\n",
    "       # solver.Add(left_side <= 0)\n",
    "       #solver.Add(left_side <= t[0,rowN])\n",
    "        solver.Add(left_side <= b[rowN])\n",
    "        #print (b[rowN])\n",
    "        \n",
    "print('Number of constraints added =', solver.NumConstraints())"
   ]
  },
  {
   "cell_type": "markdown",
   "metadata": {},
   "source": [
    "## Declare Objective Function"
   ]
  },
  {
   "cell_type": "code",
   "execution_count": 81,
   "metadata": {},
   "outputs": [],
   "source": [
    "# declare objective function: x0+x1+x2+x3+x4+......\n",
    "\n",
    "#C1 = [variables[0], variables[1], variables[2], variables[3], variables[4], variables[5]]\n",
    "C = []\n",
    "for i in range (0, len(X1)-1):\n",
    "    C.append(variables[i])\n",
    "    #print (variables[i])\n",
    "objective = sum (C)\n",
    "solver.Minimize(objective)\n",
    "\n",
    "# Weights for prioritizing different variables\n",
    "#wgt_X1 = 1.0\n",
    "#X1_coeffs = [ wgt_X1 for _ in X1 ]\n",
    "#for coeffN, coeff in enumerate(X1_coeffs):\n",
    "#    if coeff != 0:\n",
    "#        C += coeff*X1[coeffN] \n",
    "\n",
    "#solver.Maximize(x0 + x1 + x2 + x3 + x4 + x5 + x6 +x7 + x8 + x9)   "
   ]
  },
  {
   "cell_type": "markdown",
   "metadata": {},
   "source": [
    "## Invoke the solver"
   ]
  },
  {
   "cell_type": "code",
   "execution_count": 84,
   "metadata": {},
   "outputs": [
    {
     "data": {
      "text/plain": [
       "0"
      ]
     },
     "execution_count": 84,
     "metadata": {},
     "output_type": "execute_result"
    }
   ],
   "source": [
    "result_status = solver.Solve()\n",
    "    # The problem has an optimal solution.\n",
    "assert result_status == pywraplp.Solver.OPTIMAL\n",
    "result_status"
   ]
  },
  {
   "cell_type": "code",
   "execution_count": 85,
   "metadata": {},
   "outputs": [
    {
     "name": "stdout",
     "output_type": "stream",
     "text": [
      "variable 0 0.0\n",
      "variable 1 0.0\n",
      "variable 2 0.0\n",
      "variable 3 0.0\n",
      "variable 4 0.0\n",
      "variable 5 0.0\n",
      "variable 6 0.0\n",
      "variable 7 0.0\n",
      "variable 8 0.0\n",
      "variable 9 0.0\n",
      "variable 10 0.0\n",
      "variable 11 0.0\n",
      "variable 12 0.0\n",
      "variable 13 0.0\n",
      "variable 14 0.0\n",
      "variable 15 0.0\n",
      "variable 16 0.0\n",
      "variable 17 0.0\n",
      "variable 18 17.0\n",
      "variable 19 0.0\n",
      "variable 20 6.0\n",
      "variable 21 0.0\n",
      "variable 22 25.0\n",
      "variable 23 0.0\n"
     ]
    }
   ],
   "source": [
    "for i in range (0, len(X)):\n",
    "    print('variable', i, variables[i].solution_value())"
   ]
  },
  {
   "cell_type": "code",
   "execution_count": 86,
   "metadata": {},
   "outputs": [
    {
     "name": "stdout",
     "output_type": "stream",
     "text": [
      "Solution:\n",
      "Objective value = 0.0\n",
      "Number of variables = 24\n",
      "Number of constraints = 26\n",
      "\n",
      "Advanced usage:\n",
      "Problem solved in 239870.000000 milliseconds\n",
      "Problem solved in 0 iterations\n",
      "Problem solved in 0 branch-and-bound nodes\n",
      "x0 = 0.0\n",
      "x1 = 0.0\n"
     ]
    }
   ],
   "source": [
    "assert solver.VerifySolution(1e-7, True)\n",
    "\n",
    "print('Solution:')\n",
    "print('Objective value =', solver.Objective().Value())\n",
    "print('Number of variables =', solver.NumVariables())\n",
    "print('Number of constraints =', solver.NumConstraints())\n",
    "print('\\nAdvanced usage:')\n",
    "print('Problem solved in %f milliseconds' % solver.wall_time())\n",
    "print('Problem solved in %d iterations' % solver.iterations())\n",
    "print('Problem solved in %d branch-and-bound nodes' % solver.nodes())\n",
    "\n",
    "print('x0 =', variables[0].solution_value())\n",
    "print('x1 =', variables[1].solution_value())"
   ]
  },
  {
   "cell_type": "code",
   "execution_count": null,
   "metadata": {},
   "outputs": [],
   "source": []
  }
 ],
 "metadata": {
  "kernelspec": {
   "display_name": "Python 3",
   "language": "python",
   "name": "python3"
  },
  "language_info": {
   "codemirror_mode": {
    "name": "ipython",
    "version": 3
   },
   "file_extension": ".py",
   "mimetype": "text/x-python",
   "name": "python",
   "nbconvert_exporter": "python",
   "pygments_lexer": "ipython3",
   "version": "3.7.3"
  }
 },
 "nbformat": 4,
 "nbformat_minor": 2
}
