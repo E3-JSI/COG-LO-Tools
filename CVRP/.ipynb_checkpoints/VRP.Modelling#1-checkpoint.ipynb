{
 "cells": [
  {
   "cell_type": "markdown",
   "metadata": {},
   "source": [
    "## VRP SCHEDULING"
   ]
  },
  {
   "cell_type": "code",
   "execution_count": 52,
   "metadata": {},
   "outputs": [],
   "source": [
    "from __future__ import print_function\n",
    "from ortools.linear_solver import pywraplp\n",
    "\n",
    "import numpy as np\n",
    "import scipy as sp\n",
    "from numpy import matrix"
   ]
  },
  {
   "cell_type": "markdown",
   "metadata": {},
   "source": [
    "## Input data"
   ]
  },
  {
   "cell_type": "code",
   "execution_count": 3,
   "metadata": {},
   "outputs": [
    {
     "data": {
      "text/plain": [
       "[[10, 0, 11], [0, 21, 26], [31, 32, 0]]"
      ]
     },
     "execution_count": 3,
     "metadata": {},
     "output_type": "execute_result"
    }
   ],
   "source": [
    "## TEST DATA\n",
    "\n",
    "# load dispatsh matrix - demand\n",
    "    #LJ, CE, MB\n",
    "D = [17, 6, 25]\n",
    "\n",
    "# vehicle load capacity\n",
    "C = [100, 100]\n",
    "\n",
    "#network graph, stopci = povezave 12, 23, 13, vrstice = mesta\n",
    "    #LJ,CE,MB\n",
    "E = [\n",
    "    [10, 0, 11],\n",
    "    [0, 21, 26],\n",
    "    [31, 32, 0],]\n",
    "\n",
    "#E transpose\n",
    "Et= [[E[j][i] for j in range(len(E))] for i in range(len(E[0]))]\n",
    "\n",
    "#number of nodes\n",
    "N = np.size(E,0)\n",
    "#number of edges\n",
    "M = np.size(E,1)\n",
    "#number of vehicles\n",
    "V = np.size(C)\n",
    "\n",
    "#[0, 0, 1, 1, 0, 0]\n",
    "E"
   ]
  },
  {
   "cell_type": "code",
   "execution_count": 14,
   "metadata": {},
   "outputs": [
    {
     "data": {
      "text/plain": [
       "[[10, 0, 0, 0, 16, 11],\n",
       " [0, 21, 23, 0, 0, 26],\n",
       " [31, 32, 0, 0, 0, 0],\n",
       " [0, 0, 0, 44, 45, 0],\n",
       " [0, 0, 53, 54, 0, 0]]"
      ]
     },
     "execution_count": 14,
     "metadata": {},
     "output_type": "execute_result"
    }
   ],
   "source": [
    "\n",
    "# load dispatsh matrix - demand\n",
    "    #LJ, CE, MB, KP, NM\n",
    "D = [17, 6, 25, 37, 12]\n",
    "\n",
    "# vehicle load capacity\n",
    "C = [100, 100]\n",
    "\n",
    "#network graph, stopci = povezave 12, 23, 34, 45, 35, 13, vrstice = mesta\n",
    "    #LJ,CE,MB,KP,NM\n",
    "E = [\n",
    "    [10, 0, 0, 0, 16, 11],\n",
    "    [0, 21, 23, 0, 0, 26],\n",
    "    [31, 32, 0, 0, 0, 0],\n",
    "    [0, 0, 0, 44, 45, 0],\n",
    "    [0, 0, 53, 54, 0, 0]]\n",
    "\n",
    "#E transpose\n",
    "Et= [[E[j][i] for j in range(len(E))] for i in range(len(E[0]))]\n",
    "\n",
    "#number of nodes\n",
    "N = np.size(E,0)\n",
    "#number of edges\n",
    "M = np.size(E,1)\n",
    "#number of vehicles\n",
    "V = np.size(C)\n",
    "\n",
    "#[0, 0, 1, 1, 0, 0]\n",
    "E"
   ]
  },
  {
   "cell_type": "markdown",
   "metadata": {},
   "source": [
    "## Creating matrix A"
   ]
  },
  {
   "cell_type": "code",
   "execution_count": 54,
   "metadata": {},
   "outputs": [],
   "source": [
    "#creating A matrix\n",
    "# A matrix size = \n",
    "#number of rows = number of columns (E) x number of cycles;\n",
    "#columns = [number of columns (E) x number of cycles] + [number of rows (E) x number of cycles]\n",
    "\n",
    "# create zero A matrix\n",
    "A = np.zeros((len(Et)*V, len(E)*V+len(Et)*V))\n",
    "\n",
    "# insert E values into empty A matrix\n",
    "for j in range (0, len(Et)):\n",
    "    for k in range (0, V):\n",
    "        for i in range (0, len(E)):\n",
    "            A[j*V+k][k*len(E)+i]=Et[j][i]"
   ]
  },
  {
   "cell_type": "code",
   "execution_count": 55,
   "metadata": {},
   "outputs": [
    {
     "data": {
      "text/plain": [
       "12"
      ]
     },
     "execution_count": 55,
     "metadata": {},
     "output_type": "execute_result"
    }
   ],
   "source": [
    "len(A[0])"
   ]
  },
  {
   "cell_type": "markdown",
   "metadata": {},
   "source": [
    "## Creating variables"
   ]
  },
  {
   "cell_type": "code",
   "execution_count": 32,
   "metadata": {},
   "outputs": [],
   "source": [
    "#creating A matrix\n",
    "# A matrix size = \n",
    "#number of rows = number of columns (E) x number of cycles;\n",
    "#columns = [number of columns (E) x number of cycles] + [number of rows (E) x number of cycles]\n",
    "\n",
    "# create zero A matrix\n",
    "A = np.zeros((len(Et)*V, len(E)*V+len(Et)*V))\n",
    "\n",
    "# insert E values into empty A matrix\n",
    "for j in range (0, len(Et)):\n",
    "    for k in range (0, V):\n",
    "        for i in range (0, len(E)):\n",
    "            A[j*V+k][k*len(E)+i]=Et[j][i]"
   ]
  },
  {
   "cell_type": "code",
   "execution_count": 56,
   "metadata": {},
   "outputs": [],
   "source": [
    "# CREATE VARIABLES  X - vector with c11-cnn variables\n",
    "# vsak vektor v matriki X1n = dolžine len(E). \n",
    "#Skupno število vseh vektorjev X1n = len (Et)\n",
    "#X1 - variables on objective function \n",
    "#K - slack variables\n",
    "\n",
    "X1size = len(E) * V   # number of all variables\n",
    "X1 = []\n",
    "for i in range (0, X1size):\n",
    "    var='x'+str(i)\n",
    "    X1.append(var)\n",
    "#X1\n",
    "\n",
    "#Adding K values\n",
    "K = []\n",
    "for j in range (0, len(A)): \n",
    "    start=len(E)*V  # starting columns for writting K coeficients\n",
    "    A[j][len(E)*V+j]= -2\n",
    "    \n",
    "    #creating vector with K variables\n",
    "    var='k'+str(j)\n",
    "    K.append(var)\n",
    "#K\n",
    "#Final X vector vith all variables\n",
    "X=X1.copy()\n",
    "for i in range (0,len(K)):\n",
    "    X.append(K[i])"
   ]
  },
  {
   "cell_type": "code",
   "execution_count": 57,
   "metadata": {},
   "outputs": [
    {
     "name": "stdout",
     "output_type": "stream",
     "text": [
      "Number of variables created = 12\n"
     ]
    }
   ],
   "source": [
    "## Declaring variables to the solver\n",
    "\n",
    "#Declaring the solver\n",
    "solver = pywraplp.Solver('SolveIntegerProblem',\n",
    "                           pywraplp.Solver.CBC_MIXED_INTEGER_PROGRAMMING)\n",
    "\n",
    "x_min = 0.0                                # lower variables border \n",
    "x_max = solver.infinity()                  # Upper variables border                        \n",
    "#X_int=X1\n",
    "#X_real=K\n",
    "\n",
    "#def declare_variables(X_int, X_real,x_min, x_max):\n",
    "\n",
    "variables = [] \n",
    "\n",
    "for varN, xi_name in enumerate(X1):                          # declaring objective variables \n",
    "    variables.append(solver.IntVar(x_min, x_max, xi_name))\n",
    "    \n",
    "for varN, xi_name in enumerate(K):                          # decalring slack variables\n",
    "    variables.append(solver.NumVar(x_min, x_max, xi_name))\n",
    "\n",
    "print('Number of variables created =', solver.NumVariables())\n",
    "    #for variable in variables:\n",
    "        #print('%s = %d' % (variable.name(), variable.solution_value()))"
   ]
  },
  {
   "cell_type": "markdown",
   "metadata": {},
   "source": [
    "## Declare Objective Function"
   ]
  },
  {
   "cell_type": "code",
   "execution_count": 58,
   "metadata": {},
   "outputs": [],
   "source": [
    "# declare objective function\n",
    "\n",
    "for i in range (0, len(X1)):\n",
    "    objective = None\n",
    "    if objective is None:\n",
    "        objective = variables[i]\n",
    "    objective += variables[i]\n",
    "    if i == len(X1):\n",
    "        solver.Maximize(-objective<=15)\n",
    "              \n",
    "#print (objective)\n",
    "            #solver.Minimize(x0 + x1 + x2 + x3 + x4 + x5 + x6 +x7 + x8 + x9)   "
   ]
  },
  {
   "cell_type": "code",
   "execution_count": null,
   "metadata": {},
   "outputs": [],
   "source": []
  },
  {
   "cell_type": "markdown",
   "metadata": {},
   "source": [
    "## Invoke the solver"
   ]
  },
  {
   "cell_type": "code",
   "execution_count": 59,
   "metadata": {},
   "outputs": [],
   "source": [
    "result_status = solver.Solve()\n",
    "    # The problem has an optimal solution.\n",
    "assert result_status == pywraplp.Solver.OPTIMAL"
   ]
  },
  {
   "cell_type": "code",
   "execution_count": 51,
   "metadata": {},
   "outputs": [
    {
     "name": "stdout",
     "output_type": "stream",
     "text": [
      "Solution:\n",
      "Objective value = 0.0\n",
      "Number of variables = 12\n",
      "Number of constraints = 0\n",
      "x0 = 0.0\n",
      "x1 = 0.0\n",
      "x2 = 0.0\n",
      "x3 = 0.0\n",
      "x4 = 0.0\n",
      "x5 = 0.0\n",
      "x6 = 0.0\n",
      "x7 = 0.0\n",
      "x8 = 0.0\n",
      "x9 = 0.0\n",
      "\n",
      "Advanced usage:\n",
      "Problem solved in 549956.000000 milliseconds\n",
      "Problem solved in 0 iterations\n",
      "Problem solved in 0 branch-and-bound nodes\n"
     ]
    }
   ],
   "source": [
    "assert solver.VerifySolution(1e-7, True)\n",
    "\n",
    "print('Solution:')\n",
    "print('Objective value =', solver.Objective().Value())\n",
    "print('Number of variables =', solver.NumVariables())\n",
    "print('Number of constraints =', solver.NumConstraints())\n",
    "print('x0 =', variables[0].solution_value())\n",
    "print('x1 =', variables[1].solution_value())\n",
    "print('x2 =', variables[2].solution_value())\n",
    "print('x3 =', variables[3].solution_value())\n",
    "print('x4 =', variables[4].solution_value())\n",
    "print('x5 =', variables[5].solution_value())\n",
    "print('x6 =', variables[6].solution_value())\n",
    "print('x7 =', variables[7].solution_value())\n",
    "print('x8 =', variables[8].solution_value())\n",
    "print('x9 =', variables[9].solution_value())\n",
    "\n",
    "print('\\nAdvanced usage:')\n",
    "print('Problem solved in %f milliseconds' % solver.wall_time())\n",
    "print('Problem solved in %d iterations' % solver.iterations())\n",
    "print('Problem solved in %d branch-and-bound nodes' % solver.nodes())"
   ]
  },
  {
   "cell_type": "code",
   "execution_count": null,
   "metadata": {},
   "outputs": [],
   "source": []
  },
  {
   "cell_type": "code",
   "execution_count": null,
   "metadata": {},
   "outputs": [],
   "source": []
  },
  {
   "cell_type": "code",
   "execution_count": null,
   "metadata": {},
   "outputs": [],
   "source": []
  },
  {
   "cell_type": "code",
   "execution_count": null,
   "metadata": {},
   "outputs": [],
   "source": []
  }
 ],
 "metadata": {
  "kernelspec": {
   "display_name": "Python 3",
   "language": "python",
   "name": "python3"
  },
  "language_info": {
   "codemirror_mode": {
    "name": "ipython",
    "version": 3
   },
   "file_extension": ".py",
   "mimetype": "text/x-python",
   "name": "python",
   "nbconvert_exporter": "python",
   "pygments_lexer": "ipython3",
   "version": "3.7.3"
  }
 },
 "nbformat": 4,
 "nbformat_minor": 2
}
