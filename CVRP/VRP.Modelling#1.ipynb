{
 "cells": [
  {
   "cell_type": "markdown",
   "metadata": {},
   "source": [
    "## Modelling"
   ]
  },
  {
   "cell_type": "code",
   "execution_count": 3,
   "metadata": {},
   "outputs": [],
   "source": [
    "from __future__ import print_function\n",
    "from ortools.linear_solver import pywraplp\n",
    "\n",
    "import numpy as np\n",
    "import scipy as sp\n",
    "from numpy import matrix"
   ]
  },
  {
   "cell_type": "markdown",
   "metadata": {},
   "source": [
    "## Input data"
   ]
  },
  {
   "cell_type": "code",
   "execution_count": 9,
   "metadata": {},
   "outputs": [
    {
     "data": {
      "text/plain": [
       "[[10, 0, 0, 0, 16, 11],\n",
       " [0, 21, 23, 0, 0, 26],\n",
       " [31, 32, 0, 0, 0, 0],\n",
       " [0, 0, 0, 44, 45, 0],\n",
       " [0, 0, 53, 54, 0, 0]]"
      ]
     },
     "execution_count": 9,
     "metadata": {},
     "output_type": "execute_result"
    }
   ],
   "source": [
    "\n",
    "# load dispatsh matrix - demand\n",
    "    #LJ, CE, MB, KP, NM\n",
    "D = [17, 6, 25, 37, 12]\n",
    "\n",
    "# vehicle load capacity\n",
    "C = [100, 100]\n",
    "\n",
    "#network graph, stopci = povezave 12, 23, 34, 45, 35, 13, vrstice = mesta\n",
    "    #LJ,CE,MB,KP,NM\n",
    "E = [\n",
    "    [10, 0, 0, 0, 16, 11],\n",
    "    [0, 21, 23, 0, 0, 26],\n",
    "    [31, 32, 0, 0, 0, 0],\n",
    "    [0, 0, 0, 44, 45, 0],\n",
    "    [0, 0, 53, 54, 0, 0]]\n",
    "\n",
    "#E transpose\n",
    "Et= [[E[j][i] for j in range(len(E))] for i in range(len(E[0]))]\n",
    "\n",
    "#number of nodes\n",
    "N = np.size(E,0)\n",
    "#number of edges\n",
    "M = np.size(E,1)\n",
    "#number of vehicles\n",
    "V = np.size(C)\n",
    "\n",
    "#[0, 0, 1, 1, 0, 0]\n",
    "E\n"
   ]
  },
  {
   "cell_type": "markdown",
   "metadata": {},
   "source": [
    "## Creating variables vector"
   ]
  },
  {
   "cell_type": "code",
   "execution_count": 10,
   "metadata": {},
   "outputs": [],
   "source": [
    "## CONSTRAINT No. IV  -each node should be included on the route in od number"
   ]
  },
  {
   "cell_type": "code",
   "execution_count": 12,
   "metadata": {},
   "outputs": [],
   "source": [
    "#creating A matrix\n",
    "# A matrix size = \n",
    "#number of rows = number of columns (E) x number of cycles;\n",
    "#columns = [number of columns (E) x number of cycles] + [number of rows (E) x number of cycles]\n",
    "\n",
    "# create zero A matrix\n",
    "A = np.zeros((len(Et)*V, len(E)*V+len(Et)*V))\n",
    "\n",
    "# insert E values into empty A matrix\n",
    "for j in range (0, len(Et)):\n",
    "    for k in range (0, V):\n",
    "        for i in range (0, len(E)):\n",
    "            A[j*V+k][k*len(E)+i]=Et[j][i]"
   ]
  },
  {
   "cell_type": "code",
   "execution_count": 13,
   "metadata": {},
   "outputs": [],
   "source": [
    "# CREATE VARIABLES  X - vector with c11-cnn variables\n",
    "# vsak vektor v matriki X1n = dolžine len(E). \n",
    "#Skupno število vseh vektorjev X1n = len (Et)\n",
    "\n",
    "X1size = len(E) * V   # number of all variables\n",
    "X1 = []\n",
    "for i in range (0, X1size):\n",
    "    var='x'+str(i)\n",
    "    X1.append(var)\n",
    "#X1\n",
    "\n",
    "#Adding K values\n",
    "K = []\n",
    "for j in range (0, len(A)): \n",
    "    start=len(E)*V  # starting columns for writting K coeficients\n",
    "    A[j][len(E)*V+j]= -2\n",
    "    \n",
    "    #creating vector with K variables\n",
    "    var='k'+str(j)\n",
    "    K.append(var)\n",
    "#K\n",
    "#Final X vector vith all variables\n",
    "X=X1\n",
    "for i in range (0,len(K)):\n",
    "    X.append(K[i])"
   ]
  },
  {
   "cell_type": "code",
   "execution_count": 421,
   "metadata": {},
   "outputs": [
    {
     "name": "stdout",
     "output_type": "stream",
     "text": [
      "Once deleted, variables cannot be recovered. Proceed (y/[n])? y\n"
     ]
    }
   ],
   "source": [
    "#%reset"
   ]
  },
  {
   "cell_type": "code",
   "execution_count": null,
   "metadata": {},
   "outputs": [],
   "source": [
    "##test matrix A with ones\n",
    "#A = np.ones((len(Et)*V, len(E)*V+len(Et)*V))\n"
   ]
  },
  {
   "cell_type": "markdown",
   "metadata": {},
   "source": [
    "## declaring variables to solver"
   ]
  },
  {
   "cell_type": "code",
   "execution_count": 15,
   "metadata": {},
   "outputs": [],
   "source": [
    "solver = pywraplp.Solver('SolveIntegerProblem',\n",
    "                           pywraplp.Solver.CBC_MIXED_INTEGER_PROGRAMMING)\n",
    "\n",
    "for i in range (0, len(X)):\n",
    "    X[i]= solver.IntVar(0.0, solver.infinity(),str(X[i]))"
   ]
  },
  {
   "cell_type": "code",
   "execution_count": 16,
   "metadata": {},
   "outputs": [
    {
     "name": "stdout",
     "output_type": "stream",
     "text": [
      "Number of variables = 22\n",
      "x0 = 0\n",
      "x1 = 0\n",
      "x2 = 0\n",
      "x3 = 0\n",
      "x4 = 0\n",
      "x5 = 0\n",
      "x6 = 0\n",
      "x7 = 0\n",
      "x8 = 0\n",
      "x9 = 0\n",
      "k0 = 0\n",
      "k1 = 0\n",
      "k2 = 0\n",
      "k3 = 0\n",
      "k4 = 0\n",
      "k5 = 0\n",
      "k6 = 0\n",
      "k7 = 0\n",
      "k8 = 0\n",
      "k9 = 0\n",
      "k10 = 0\n",
      "k11 = 0\n"
     ]
    }
   ],
   "source": [
    "print('Number of variables =', solver.NumVariables())\n",
    "variable_list = X\n",
    "for variable in variable_list:\n",
    "    print('%s = %d' % (variable.name(), variable.solution_value()))"
   ]
  },
  {
   "cell_type": "markdown",
   "metadata": {},
   "source": [
    "## Definition of constraints"
   ]
  },
  {
   "cell_type": "code",
   "execution_count": 465,
   "metadata": {},
   "outputs": [],
   "source": [
    "# A * X <= 0\n",
    "# matrix A nad X are defined\n"
   ]
  },
  {
   "cell_type": "code",
   "execution_count": 469,
   "metadata": {},
   "outputs": [],
   "source": [
    "#A"
   ]
  },
  {
   "cell_type": "code",
   "execution_count": 468,
   "metadata": {},
   "outputs": [],
   "source": [
    "#X"
   ]
  },
  {
   "cell_type": "code",
   "execution_count": 524,
   "metadata": {},
   "outputs": [
    {
     "name": "stdout",
     "output_type": "stream",
     "text": [
      "Number of constraints = 12\n"
     ]
    }
   ],
   "source": [
    "#constraints\n",
    "solver.Add(10 * x0 + 31 * x2 - 2 * k0 <= 0)\n",
    "solver.Add(10 * x5 + 31 * x7 - 2 * k1 <= 0)\n",
    "solver.Add(21 * x1 + 33 * x2 - 2 * k2 <= 0)\n",
    "solver.Add(21 * x6 + 33 * x7 - 2 * k3 <= 0)\n",
    "solver.Add(23 * x1 + 53 * x4 - 2 * k4 <= 0)\n",
    "solver.Add(23 * x6 + 53 * x9 - 2 * k5 <= 0)\n",
    "solver.Add(44 * x3 + 54 * x4 - 2 * k6 <= 0)\n",
    "solver.Add(44 * x8 + 54 * x9 - 2 * k7 <= 0)\n",
    "solver.Add(16 * x0 + 45 * x3 - 2 * k8 <= 0)\n",
    "solver.Add(16 * x5 + 45 * x8 - 2 * k9 <= 0)\n",
    "solver.Add(11 * x0 + 26 * x1 - 2 * k10 <= 0)\n",
    "solver.Add(11 * x5 + 26 * x6 - 2 * k11 <= 0)\n",
    "print('Number of constraints =', solver.NumConstraints())"
   ]
  },
  {
   "cell_type": "code",
   "execution_count": 19,
   "metadata": {},
   "outputs": [
    {
     "name": "stdout",
     "output_type": "stream",
     "text": [
      "Number of constraints = 12\n"
     ]
    }
   ],
   "source": [
    "#constraints basic\n",
    "solver.Add( x0 + x2 - 2 * k0 <= 0)\n",
    "solver.Add( x5 + x7 - 2 * k1 <= 0)\n",
    "solver.Add( x1 + x2 - 2 * k2 <= 0)\n",
    "solver.Add( x6 + x7 - 2 * k3 <= 0)\n",
    "solver.Add( x1 + x4 - 2 * k4 <= 0)\n",
    "solver.Add( x6 + x9 - 2 * k5 <= 0)\n",
    "solver.Add( x3 + x4 - 2 * k6 <= 0)\n",
    "solver.Add( x8 + x9 - 2 * k7 <= 0)\n",
    "solver.Add( x0 + x3 - 2 * k8 <= 0)\n",
    "solver.Add( x5 + x8 - 2 * k9 <= 0)\n",
    "solver.Add( x0 + x1 - 2 * k10 <= 0)\n",
    "solver.Add( x5 + x6 - 2 * k11 <= 0)\n",
    "print('Number of constraints =', solver.NumConstraints())"
   ]
  },
  {
   "cell_type": "code",
   "execution_count": null,
   "metadata": {},
   "outputs": [],
   "source": []
  },
  {
   "cell_type": "code",
   "execution_count": 18,
   "metadata": {},
   "outputs": [
    {
     "name": "stdout",
     "output_type": "stream",
     "text": [
      "Number of variables = 22\n"
     ]
    }
   ],
   "source": [
    "solver = pywraplp.Solver('SolveIntegerProblem',\n",
    "                           pywraplp.Solver.CBC_MIXED_INTEGER_PROGRAMMING)\n",
    "\n",
    "x0 = solver.IntVar(0.0, solver.infinity(), 'x0')\n",
    "x1 = solver.IntVar(0.0, solver.infinity(), 'x1')\n",
    "x2 = solver.IntVar(0.0, solver.infinity(), 'x2')\n",
    "x3 = solver.IntVar(0.0, solver.infinity(), 'x3')\n",
    "x4 = solver.IntVar(0.0, solver.infinity(), 'x4')\n",
    "x5 = solver.IntVar(0.0, solver.infinity(), 'x5')\n",
    "x6 = solver.IntVar(0.0, solver.infinity(), 'x6')\n",
    "x7 = solver.IntVar(0.0, solver.infinity(), 'x7')\n",
    "x8 = solver.IntVar(0.0, solver.infinity(), 'x8')\n",
    "x9 = solver.IntVar(0.0, solver.infinity(), 'x9')\n",
    "k0 = solver.IntVar(0.0, solver.infinity(), 'k0')\n",
    "k1 = solver.IntVar(0.0, solver.infinity(), 'k1')\n",
    "k2 = solver.IntVar(0.0, solver.infinity(), 'k2')\n",
    "k3 = solver.IntVar(0.0, solver.infinity(), 'k3')\n",
    "k4 = solver.IntVar(0.0, solver.infinity(), 'k4')\n",
    "k5 = solver.IntVar(0.0, solver.infinity(), 'k5')\n",
    "k6 = solver.IntVar(0.0, solver.infinity(), 'k6')\n",
    "k7 = solver.IntVar(0.0, solver.infinity(), 'k7')\n",
    "k8 = solver.IntVar(0.0, solver.infinity(), 'k8')\n",
    "k9 = solver.IntVar(0.0, solver.infinity(), 'k9')\n",
    "k10 = solver.IntVar(0.0, solver.infinity(), 'k10')\n",
    "k11 = solver.IntVar(0.0, solver.infinity(), 'k11')\n",
    "\n",
    "print('Number of variables =', solver.NumVariables())"
   ]
  },
  {
   "cell_type": "markdown",
   "metadata": {},
   "source": [
    "## objective function"
   ]
  },
  {
   "cell_type": "code",
   "execution_count": 20,
   "metadata": {},
   "outputs": [],
   "source": [
    "#objective function\n",
    "#solver.Maximize( x2)\n",
    "solver.Minimize(x0 + x1 + x2 + x3 + x4 + x5 + x6 +x7 + x8 + x9)"
   ]
  },
  {
   "cell_type": "code",
   "execution_count": 21,
   "metadata": {},
   "outputs": [],
   "source": [
    "result_status = solver.Solve()\n",
    "    # The problem has an optimal solution.\n",
    "assert result_status == pywraplp.Solver.OPTIMAL"
   ]
  },
  {
   "cell_type": "code",
   "execution_count": 22,
   "metadata": {},
   "outputs": [
    {
     "name": "stdout",
     "output_type": "stream",
     "text": [
      "Solution:\n",
      "Objective value = 0.0\n",
      "x0 = 0.0\n",
      "x1 = 0.0\n",
      "x2 = 0.0\n",
      "x3 = 0.0\n",
      "x4 = 0.0\n",
      "x5 = 0.0\n",
      "x6 = 0.0\n",
      "x7 = 0.0\n",
      "x8 = 0.0\n",
      "x9 = 0.0\n",
      "\n",
      "Advanced usage:\n",
      "Problem solved in 10104.000000 milliseconds\n",
      "Problem solved in 0 iterations\n",
      "Problem solved in 0 branch-and-bound nodes\n"
     ]
    }
   ],
   "source": [
    "assert solver.VerifySolution(1e-7, True)\n",
    "\n",
    "print('Solution:')\n",
    "print('Objective value =', solver.Objective().Value())\n",
    "print('x0 =', x0.solution_value())\n",
    "print('x1 =', x1.solution_value())\n",
    "print('x2 =', x2.solution_value())\n",
    "print('x3 =', x3.solution_value())\n",
    "print('x4 =', x4.solution_value())\n",
    "print('x5 =', x5.solution_value())\n",
    "print('x6 =', x6.solution_value())\n",
    "print('x7 =', x7.solution_value())\n",
    "print('x8 =', x8.solution_value())\n",
    "print('x9 =', x9.solution_value())\n",
    "\n",
    "print('\\nAdvanced usage:')\n",
    "print('Problem solved in %f milliseconds' % solver.wall_time())\n",
    "print('Problem solved in %d iterations' % solver.iterations())\n",
    "print('Problem solved in %d branch-and-bound nodes' % solver.nodes())\n"
   ]
  },
  {
   "cell_type": "code",
   "execution_count": null,
   "metadata": {},
   "outputs": [],
   "source": [
    "print('Number of variables =', solver.NumVariables())\n",
    "print('Number of constraints =', solver.NumConstraints())\n",
    "print('Optimal objective value = %d' % solver.Objective().Value())\n",
    "print()\n",
    "\n",
    "variable_list = [x1, x1, y1, y2]\n",
    "\n",
    "for variable in variable_list:\n",
    "    print('%s = %d' % (variable.name(), variable.solution_value()))"
   ]
  },
  {
   "cell_type": "markdown",
   "metadata": {},
   "source": [
    "## Objective function"
   ]
  },
  {
   "cell_type": "code",
   "execution_count": null,
   "metadata": {},
   "outputs": [],
   "source": []
  },
  {
   "cell_type": "code",
   "execution_count": null,
   "metadata": {},
   "outputs": [],
   "source": []
  },
  {
   "cell_type": "code",
   "execution_count": null,
   "metadata": {},
   "outputs": [],
   "source": []
  },
  {
   "cell_type": "code",
   "execution_count": null,
   "metadata": {},
   "outputs": [],
   "source": []
  },
  {
   "cell_type": "code",
   "execution_count": null,
   "metadata": {},
   "outputs": [],
   "source": []
  },
  {
   "cell_type": "code",
   "execution_count": null,
   "metadata": {},
   "outputs": [],
   "source": []
  },
  {
   "cell_type": "code",
   "execution_count": null,
   "metadata": {},
   "outputs": [],
   "source": []
  }
 ],
 "metadata": {
  "kernelspec": {
   "display_name": "Python 3",
   "language": "python",
   "name": "python3"
  },
  "language_info": {
   "codemirror_mode": {
    "name": "ipython",
    "version": 3
   },
   "file_extension": ".py",
   "mimetype": "text/x-python",
   "name": "python",
   "nbconvert_exporter": "python",
   "pygments_lexer": "ipython3",
   "version": "3.7.3"
  }
 },
 "nbformat": 4,
 "nbformat_minor": 2
}
