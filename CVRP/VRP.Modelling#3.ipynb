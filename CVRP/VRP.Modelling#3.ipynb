{
 "cells": [
  {
   "cell_type": "markdown",
   "metadata": {},
   "source": [
    "## VRP SHEDULING"
   ]
  },
  {
   "cell_type": "code",
   "execution_count": 102,
   "metadata": {},
   "outputs": [],
   "source": [
    "from __future__ import print_function\n",
    "from ortools.linear_solver import pywraplp\n",
    "import array\n",
    "import numpy as np\n",
    "import scipy as sp\n",
    "from numpy import matrix"
   ]
  },
  {
   "cell_type": "markdown",
   "metadata": {},
   "source": [
    "## Input data"
   ]
  },
  {
   "cell_type": "code",
   "execution_count": 223,
   "metadata": {},
   "outputs": [
    {
     "data": {
      "text/plain": [
       "[[1, 1, 1, 0, 0], [1, 0, 0, 1, 0], [0, 1, 0, 1, 1], [0, 0, 1, 0, 1]]"
      ]
     },
     "execution_count": 223,
     "metadata": {},
     "output_type": "execute_result"
    }
   ],
   "source": [
    "## TEST DATA - SMALL USE CASE\n",
    "\n",
    "# load dispatsh matrix - demand\n",
    "    #LJ,MB,CE,KP\n",
    "D = [11, 60, 12, 70]\n",
    "\n",
    "# vehicle load capacity\n",
    "C = [100, 100]\n",
    "\n",
    "#network graph, stopci = povezave 12, 23, 13, vrstice = mesta\n",
    "    #LJ,MB,CE,KP\n",
    "E = [\n",
    "    [1, 1, 1, 0, 0],\n",
    "    [1, 0, 0, 1, 0],\n",
    "    [0, 1, 0, 1, 1],\n",
    "    [0, 0, 1, 0, 1]\n",
    "    ]\n",
    "\n",
    "edges = len(E[1])\n",
    "nodes = len (E)\n",
    "#E transpose\n",
    "Et= [[E[j][i] for j in range(len(E))] for i in range(len(E[0]))]\n",
    "\n",
    "#number of vehicles\n",
    "V = np.size(C)\n",
    "\n",
    "E"
   ]
  },
  {
   "cell_type": "code",
   "execution_count": 148,
   "metadata": {},
   "outputs": [],
   "source": [
    "# test matrix\n",
    "E = [\n",
    "    [11, 12, 13, 14, 15],\n",
    "    [21, 22, 23, 24, 25],\n",
    "    [31, 32, 33, 34, 35],\n",
    "    [41, 42, 43, 44, 45]\n",
    "    ]\n",
    "#E transpose\n",
    "Et= [[E[j][i] for j in range(len(E))] for i in range(len(E[0]))]"
   ]
  },
  {
   "cell_type": "code",
   "execution_count": 474,
   "metadata": {},
   "outputs": [
    {
     "data": {
      "text/plain": [
       "[[10, 0, 0, 0, 16, 11],\n",
       " [0, 21, 23, 0, 0, 26],\n",
       " [31, 32, 0, 0, 0, 0],\n",
       " [0, 0, 0, 44, 45, 0],\n",
       " [0, 0, 53, 54, 0, 0]]"
      ]
     },
     "execution_count": 474,
     "metadata": {},
     "output_type": "execute_result"
    }
   ],
   "source": [
    "\n",
    "# load dispatsh matrix - demand\n",
    "    #LJ, CE, MB, KP, NM\n",
    "D = [17, 6, 25, 37, 12]\n",
    "\n",
    "# vehicle load capacity\n",
    "C = [100, 100, 100]\n",
    "\n",
    "#network graph, stopci = povezave 12, 23, 34, 45, 35, 13, vrstice = mesta\n",
    "    #LJ,CE,MB,KP,NM\n",
    "E = [\n",
    "    [10, 0, 0, 0, 16, 11],\n",
    "    [0, 21, 23, 0, 0, 26],\n",
    "    [31, 32, 0, 0, 0, 0],\n",
    "    [0, 0, 0, 44, 45, 0],\n",
    "    [0, 0, 53, 54, 0, 0]]\n",
    "\n",
    "#E transpose\n",
    "Et= [[E[j][i] for j in range(len(E))] for i in range(len(E[0]))]\n",
    "#-E (negative values)\n",
    "negE=np.negative(E)\n",
    "\n",
    "#number of nodes\n",
    "N = np.size(E,0)\n",
    "#number of edges\n",
    "M = np.size(E,1)\n",
    "#number of vehicles\n",
    "V = np.size(C)\n",
    "\n",
    "#[0, 0, 1, 1, 0, 0]\n",
    "E"
   ]
  },
  {
   "cell_type": "markdown",
   "metadata": {},
   "source": [
    "## Creating Constraint matrix A"
   ]
  },
  {
   "cell_type": "code",
   "execution_count": 224,
   "metadata": {},
   "outputs": [],
   "source": [
    "# CONSTRAINT IV - UPDATED - there is od number of edges on cycles\n",
    "sizeA11=edges*V+nodes*V\n",
    "sizeA1=3*nodes*V+edges*V\n",
    "A1 = np.zeros((sizeA1, sizeA11))\n",
    "for k in range (0, V):\n",
    "    for i in range (0, nodes):\n",
    "        for j in range (0, edges):\n",
    "            A1[i+k*nodes][j+k*edges]=E[i][j]\n",
    "            A1[i+k*nodes+V*nodes][j+k*edges]=-E[i][j]\n",
    "for ik in range (0, nodes*V):\n",
    "    A1[ik][edges*V+ik]=-2\n",
    "    A1[ik+V*nodes][edges*V+ik]=2\n",
    "    A1[ik+V*nodes][edges*V+ik]=2\n",
    "\n",
    "for ik in range (0, V*nodes):\n",
    "    A1[ik+2*V*nodes,V*edges+ik]=-1\n",
    "for jk in range (0, V*edges):\n",
    "    A1[jk+3*V*nodes,jk]=-1"
   ]
  },
  {
   "cell_type": "code",
   "execution_count": 226,
   "metadata": {},
   "outputs": [],
   "source": [
    "   #****UPDATED****\n",
    "# CONSTRAINT II - A2 - the number of packets delivered on the node is equal to all total demand on the node\n",
    "#number of rows: 2 * num. of nodes\n",
    "#number of columns: num. nodes * num. of cycles\n",
    "# variables Oki\n",
    "# B vector = [D, -D]\n",
    "\n",
    "sizeA2= 2*nodes\n",
    "sizeA21= nodes*V\n",
    "A2 = np.zeros((sizeA2, sizeA21))\n",
    "for i in range (0, nodes):\n",
    "    for k in range (0, V):\n",
    "            A2[i,i+nodes*k]=1\n",
    "            A2[i+nodes,i+nodes*k]=-1"
   ]
  },
  {
   "cell_type": "code",
   "execution_count": 227,
   "metadata": {},
   "outputs": [],
   "source": [
    "   #****UPDATED****\n",
    "#CONSTRAINT III A3 matrix: sum of load on each vehicles must not exceed vehicle load capacity\n",
    "# B vector = [C, -C, [0,0, 0,...]]\n",
    "# variables Oki\n",
    "sizeA3=V+V*nodes\n",
    "sizeA31=V*nodes\n",
    "\n",
    "A3 = np.zeros((sizeA3, sizeA31))\n",
    "for k in range (0, V):                                  # for each vehicle\n",
    "    for i in range (0, nodes):                         #take the sum of load on enach node (sum on Ow variables)\n",
    "        #print(\"j\", j+i*V)       \n",
    "        A3[k,i+k*nodes]=1\n",
    "for ik in range (0, nodes*V):\n",
    "    A3[V+ik,ik]=-1\n",
    "   \n",
    "# A23 - concatenating A2 and A3\n",
    "A23=A2\n",
    "for i in range (0, len(A3)):\n",
    "    A23=np.vstack([A23, A3[i,:]])"
   ]
  },
  {
   "cell_type": "code",
   "execution_count": 228,
   "metadata": {},
   "outputs": [],
   "source": [
    "#CONSTRAINT I - total number of all packets delivered is equal to summ of all D\n",
    "\n",
    "size1= 2*nodes*V + edges*V   # number of columns in matrix A1+A2+A3, variables X, K, O\n",
    "size2= V*edges*nodes         # number of additional columns in matrix A41, variables Aijk\n",
    "# b vector = d (sum of all parcels). size = 1; D_all = np.sum(D)\n",
    "\n",
    "# constraint 4.1. SUM for ijk -> (Eij * Aijk)\n",
    "A41 = np.zeros((1, size1+size2))\n",
    "l=0\n",
    "for i in range (0, nodes):              # itteration by node in E \n",
    "    for j in range (0, edges):         # itteration by edges in E\n",
    "        for k in range (0, V):\n",
    "            A41[0,(size1+l)]=-(E[i][j])\n",
    "            #print(size1+l)\n",
    "            l=l+1"
   ]
  },
  {
   "cell_type": "code",
   "execution_count": 229,
   "metadata": {
    "scrolled": false
   },
   "outputs": [],
   "source": [
    "# Adding constraints 4.2.: Aijk - Cki*di <= 0 \n",
    "size1= V * edges * nodes   \n",
    "size2= 2*V*nodes + V*edges + V*nodes*edges\n",
    "#b vector = [0,0,...0], size = nodes* edges * V\n",
    "offsetA4=0\n",
    "A42 = np.zeros((size1, size2))\n",
    "for i in range (0, nodes):\n",
    "    for j in range (0,edges): \n",
    "        for k in range (0, V):\n",
    "            A42[i*edges*V+j*V+k, edges*k+j]=-D[i]\n",
    "            A42[i*edges*V+j*V+k, 2*V*nodes + V*edges + i*edges*V+j*V+k]=1"
   ]
  },
  {
   "cell_type": "code",
   "execution_count": 230,
   "metadata": {},
   "outputs": [],
   "source": [
    "#constraint 4.3.: Aijk - Oki <= 0\n",
    "size1= V * edges * nodes   \n",
    "size2= 2*V*nodes + V*edges + V*nodes*edges\n",
    "A43 = np.zeros((size1, size2))\n",
    "#b vector = [0,0,...0], size = \n",
    "\n",
    "offset= V*nodes+V*edges\n",
    "offset1= 2*V*nodes+V*edges\n",
    "for k in range (0, V):\n",
    "    for j in range (0, edges):\n",
    "        for i in range (0, nodes):\n",
    "            A43[k*edges*nodes+j*nodes+i,offset+k*nodes+i]=-1\n",
    "            A43[k*edges*nodes+j*nodes+i,offset1+k*edges*nodes+j*nodes+i]=1"
   ]
  },
  {
   "cell_type": "code",
   "execution_count": 232,
   "metadata": {},
   "outputs": [
    {
     "name": "stdout",
     "output_type": "stream",
     "text": [
      "number of zero rows in A matirx = 0\n",
      "number of variables in A = 66\n",
      "number of constraints in A = 133\n"
     ]
    }
   ],
   "source": [
    "# FINAL MATRIX  - A with all constraints\n",
    "#concatenate A1 and A23 = A matrix\n",
    "A1extend = np.c_[A1, np.zeros((len(A1), len(A23[0])))]\n",
    "A23extend = np.c_[np.zeros((len(A23), len(A1[0]))), A23]\n",
    "\n",
    "A123=A1extend.copy()\n",
    "for i in range (0, len(A23)):\n",
    "    A123=np.vstack([A123, A23extend[i,:]])\n",
    "\n",
    "#concatenate A4 matrix\n",
    "A4=A41.copy()\n",
    "for i in range (0, len(A42)):\n",
    "    A4=np.vstack([A4, A42[i,:]])\n",
    "for i in range (0, len(A43)):\n",
    "    A4=np.vstack([A4, A43[i,:]])\n",
    "\n",
    "#Final concate A123 & A4\n",
    "A123extend = np.c_[A123, np.zeros((len(A123), nodes*edges*V))]\n",
    "A=A123extend.copy()\n",
    "for i in range (0, len(A4)):\n",
    "    A=np.vstack([A, A4[i,:]])\n",
    "\n",
    "non_zero_rows = np.count_nonzero((A != 0).sum(1)); zero_rows = len(A) - non_zero_rows\n",
    "print (\"number of zero rows in A matirx =\", zero_rows)\n",
    "print (\"number of variables in A =\", len(A[1]))\n",
    "print (\"number of constraints in A =\", len(A))\n"
   ]
  },
  {
   "cell_type": "markdown",
   "metadata": {},
   "source": [
    "## Creating & declaring variables"
   ]
  },
  {
   "cell_type": "code",
   "execution_count": 233,
   "metadata": {},
   "outputs": [
    {
     "name": "stdout",
     "output_type": "stream",
     "text": [
      "number of all variables = 66\n",
      "number of C variables = 10\n",
      "number of K variables = 8\n",
      "number of O variables = 8\n",
      "number of Aijk variables = 40\n"
     ]
    }
   ],
   "source": [
    "# CREATE VARIABLES  X - vector with c11-cnn variables\n",
    "# vsak vektor v matriki X1n = dolžine len(E). \n",
    "#Skupno število vseh vektorjev X1n = len (Et)\n",
    "#X variables X[0] to X[len(E) * V -1] -  variables in objective function \n",
    "#K - X[len(E) * V] to X[len(E) * V + len(A1) -1]  slack variables\n",
    "#Ow - cycles load dispatch variables - X[len(E) * V + len(Et)*V*2] to X[len(E) * V + len(Et)*V*3 -1 ] \n",
    "\n",
    "# C variables\n",
    "X1 = []\n",
    "for i in range (0, edges*V):\n",
    "    var='x'+str(i)\n",
    "    X1.append(var)\n",
    "\n",
    "#K variables\n",
    "K = []\n",
    "for j in range (0, V*nodes):\n",
    "    #creating vector with K variables\n",
    "    var='k'+str(j)\n",
    "    K.append(var)\n",
    "    \n",
    "#\"Ow\" variables\n",
    "Ow = []\n",
    "for j in range(0, V*nodes):   # numer of vehicles \n",
    "    var='Ow'+str(j)\n",
    "    Ow.append(var)\n",
    "\n",
    "#\"Aijk\" variables\n",
    "Aijk = []\n",
    "for i in range (0,nodes):\n",
    "    for j in range(0, edges):   # numer of vehicles \n",
    "        for k in range (0, V):\n",
    "            var='A'+str(i)+str(j)+str(k)\n",
    "            Aijk.append(var)\n",
    "    \n",
    "#Final X vector with all variables\n",
    "X=X1.copy()\n",
    "for i in range (0,len(K)):\n",
    "    X.append(K[i])\n",
    "for j in range (0,len(Ow)):\n",
    "    X.append(Ow[j])\n",
    "for ijk in range (0,len(Aijk)):\n",
    "    X.append(Aijk[ijk])\n",
    "print(\"number of all variables =\", len(X))\n",
    "print(\"number of C variables =\", len(X1))\n",
    "print(\"number of K variables =\", len(K))\n",
    "print(\"number of O variables =\", len(Ow))\n",
    "print(\"number of Aijk variables =\", len(Aijk))"
   ]
  },
  {
   "cell_type": "code",
   "execution_count": 234,
   "metadata": {},
   "outputs": [
    {
     "name": "stdout",
     "output_type": "stream",
     "text": [
      "Number of variables created = 66\n"
     ]
    }
   ],
   "source": [
    "#Declaring the solver\n",
    "solver = pywraplp.Solver('SolveIntegerProblem',\n",
    "                           pywraplp.Solver.CBC_MIXED_INTEGER_PROGRAMMING)\n",
    "x_min = -solver.infinity()                   # lower variables border \n",
    "x_max = solver.infinity()                  # Upper variables border                        \n",
    "    \n",
    "variables = [] \n",
    "\n",
    "for varN, xi_name in enumerate(X1):                          # declaring objective variables [C1.... Cn]\n",
    "    variables.append(solver.IntVar(0.0, x_max, xi_name))\n",
    "    \n",
    "for varN, xi_name in enumerate(K):                          # declaring slack variables\n",
    "    variables.append(solver.IntVar(0.0, x_max, xi_name))\n",
    "\n",
    "for varN, xi_name in enumerate(Ow):                          # declaring load doispatch variables\n",
    "    variables.append(solver.NumVar(0.0, x_max, xi_name))\n",
    "\n",
    "for varN, xi_name in enumerate(Aijk):                          # declaring load doispatch variables\n",
    "    variables.append(solver.NumVar(0.0, x_max, xi_name))\n",
    "    \n",
    "print('Number of variables created =', solver.NumVariables())\n",
    "    #for variable in variables:\n",
    "        #print('%s = %d' % (variable.name(), variable.solution_value())"
   ]
  },
  {
   "cell_type": "markdown",
   "metadata": {},
   "source": [
    "## Declare constraints"
   ]
  },
  {
   "cell_type": "code",
   "execution_count": 235,
   "metadata": {},
   "outputs": [
    {
     "name": "stdout",
     "output_type": "stream",
     "text": [
      "number of constants = 133\n"
     ]
    }
   ],
   "source": [
    "#EQUATIONS COEFICIENTS \n",
    "\n",
    "#coeficients for constraint IV  -A1 matrix\n",
    "b1=[]\n",
    "for i in range (0, len(A1)):\n",
    "    b1.append(0)\n",
    "# coeficients for A2 matrix: b2+b3\n",
    "b2=[]\n",
    "b2 = D + [-val for val in D] \n",
    "# coeficient for A3 matrix\n",
    "b31=C; b32=[]\n",
    "for i in range (0, V*nodes):\n",
    "    b32.append(0)\n",
    "\n",
    "#coeficients for A23 constraint III\n",
    "if len(b2+b31+b32) != len(A23):\n",
    "    print(\"Error - wrong number of A23 constants!!!\")\n",
    "\n",
    "#coeficients for A4 matrix\n",
    "b4=[-np.sum(D)]\n",
    "for i in range (0, 2*V*nodes*edges):\n",
    "    b4.append(0)\n",
    "\n",
    "#D_all = np.sum(D)\n",
    "\n",
    "# Final vector of constants - b    \n",
    "b = b1 + b2 + b31 + b32 + b4\n",
    "#b=np.array(b)\n",
    "print(\"number of constants =\", len(b))"
   ]
  },
  {
   "cell_type": "code",
   "execution_count": 236,
   "metadata": {
    "scrolled": false
   },
   "outputs": [
    {
     "name": "stdout",
     "output_type": "stream",
     "text": [
      "Number of constraints added = 133\n"
     ]
    }
   ],
   "source": [
    "#DECLARE CONSTRAINTS\n",
    "#b = np.zeros((1, len(A)))\n",
    "\n",
    "for rowN, row in enumerate(A):\n",
    "    left_side = None\n",
    "    for colN, coeff in enumerate(row):\n",
    "        if coeff == 0:\n",
    "            continue\n",
    "        if left_side is None:\n",
    "            left_side = coeff*variables[colN]\n",
    "        else:\n",
    "            left_side += coeff*variables[colN]\n",
    "    if left_side is None and b[rowN] < 0:\n",
    "    #if left_side is None and b[0,rowN] < 0:\n",
    "        raise ValueError('Constraint ' + str(rowN) + ' cannot be satisfied!')\n",
    "    if left_side is not None:\n",
    "        #solver.Add(left_side <= t[0,rowN])\n",
    "        solver.Add(left_side <= b[rowN])\n",
    "        \n",
    "print('Number of constraints added =', solver.NumConstraints())"
   ]
  },
  {
   "cell_type": "markdown",
   "metadata": {},
   "source": [
    "## Declare Objective Function"
   ]
  },
  {
   "cell_type": "code",
   "execution_count": 237,
   "metadata": {},
   "outputs": [],
   "source": [
    "# declare objective function: x0+x1+x2+x3+x4+......\n",
    "\n",
    "#C1 = [variables[0], variables[1], variables[2], variables[3], variables[4], variables[5]]\n",
    "C = []\n",
    "for i in range (0, len(X1)):\n",
    "    C.append(variables[i])\n",
    "    #print (variables[i])\n",
    "objective = sum(C)\n",
    "solver.Minimize(objective)\n",
    "\n",
    "# Weights for prioritizing different variables\n",
    "#wgt_X1 = 1.0\n",
    "#X1_coeffs = [ wgt_X1 for _ in X1 ]\n",
    "#for coeffN, coeff in enumerate(X1_coeffs):\n",
    "#    if coeff != 0:\n",
    "#        C += coeff*X1[coeffN] \n",
    "\n",
    "#solver.Maximize(x0 + x1 + x2 + x3 + x4 + x5 + x6 +x7 + x8 + x9)   "
   ]
  },
  {
   "cell_type": "markdown",
   "metadata": {},
   "source": [
    "## Invoke the solver"
   ]
  },
  {
   "cell_type": "code",
   "execution_count": 238,
   "metadata": {},
   "outputs": [
    {
     "data": {
      "text/plain": [
       "0"
      ]
     },
     "execution_count": 238,
     "metadata": {},
     "output_type": "execute_result"
    }
   ],
   "source": [
    "result_status = solver.Solve()\n",
    "    # The problem has an optimal solution.\n",
    "assert result_status == pywraplp.Solver.OPTIMAL\n",
    "result_status"
   ]
  },
  {
   "cell_type": "code",
   "execution_count": 240,
   "metadata": {},
   "outputs": [
    {
     "data": {
      "text/plain": [
       "['x0',\n",
       " 'x1',\n",
       " 'x2',\n",
       " 'x3',\n",
       " 'x4',\n",
       " 'x5',\n",
       " 'x6',\n",
       " 'x7',\n",
       " 'x8',\n",
       " 'x9',\n",
       " 'k0',\n",
       " 'k1',\n",
       " 'k2',\n",
       " 'k3',\n",
       " 'k4',\n",
       " 'k5',\n",
       " 'k6',\n",
       " 'k7',\n",
       " 'Ow0',\n",
       " 'Ow1',\n",
       " 'Ow2',\n",
       " 'Ow3',\n",
       " 'Ow4',\n",
       " 'Ow5',\n",
       " 'Ow6',\n",
       " 'Ow7',\n",
       " 'A000',\n",
       " 'A001',\n",
       " 'A010',\n",
       " 'A011',\n",
       " 'A020',\n",
       " 'A021',\n",
       " 'A030',\n",
       " 'A031',\n",
       " 'A040',\n",
       " 'A041',\n",
       " 'A100',\n",
       " 'A101',\n",
       " 'A110',\n",
       " 'A111',\n",
       " 'A120',\n",
       " 'A121',\n",
       " 'A130',\n",
       " 'A131',\n",
       " 'A140',\n",
       " 'A141',\n",
       " 'A200',\n",
       " 'A201',\n",
       " 'A210',\n",
       " 'A211',\n",
       " 'A220',\n",
       " 'A221',\n",
       " 'A230',\n",
       " 'A231',\n",
       " 'A240',\n",
       " 'A241',\n",
       " 'A300',\n",
       " 'A301',\n",
       " 'A310',\n",
       " 'A311',\n",
       " 'A320',\n",
       " 'A321',\n",
       " 'A330',\n",
       " 'A331',\n",
       " 'A340',\n",
       " 'A341']"
      ]
     },
     "execution_count": 240,
     "metadata": {},
     "output_type": "execute_result"
    }
   ],
   "source": [
    "X"
   ]
  },
  {
   "cell_type": "code",
   "execution_count": 239,
   "metadata": {},
   "outputs": [
    {
     "name": "stdout",
     "output_type": "stream",
     "text": [
      "variable 0 0.0\n",
      "variable 1 0.0\n",
      "variable 2 0.0\n",
      "variable 3 0.0\n",
      "variable 4 0.0\n",
      "variable 5 0.0\n",
      "variable 6 1.0\n",
      "variable 7 1.0\n",
      "variable 8 0.0\n",
      "variable 9 1.0\n",
      "variable 10 0.0\n",
      "variable 11 0.0\n",
      "variable 12 0.0\n",
      "variable 13 0.0\n",
      "variable 14 1.0\n",
      "variable 15 0.0\n",
      "variable 16 1.0\n",
      "variable 17 1.0\n",
      "variable 18 11.0\n",
      "variable 19 48.0\n",
      "variable 20 0.0\n",
      "variable 21 0.0\n",
      "variable 22 0.0\n",
      "variable 23 11.999999999999996\n",
      "variable 24 12.0\n",
      "variable 25 70.0\n",
      "variable 26 0.0\n",
      "variable 27 0.0\n",
      "variable 28 0.0\n",
      "variable 29 0.0\n",
      "variable 30 0.0\n",
      "variable 31 11.0\n",
      "variable 32 0.0\n",
      "variable 33 0.0\n",
      "variable 34 0.0\n",
      "variable 35 0.0\n",
      "variable 36 0.0\n",
      "variable 37 0.0\n",
      "variable 38 0.0\n",
      "variable 39 0.0\n",
      "variable 40 0.0\n",
      "variable 41 0.0\n",
      "variable 42 0.0\n",
      "variable 43 0.0\n",
      "variable 44 0.0\n",
      "variable 45 0.0\n",
      "variable 46 0.0\n",
      "variable 47 0.0\n",
      "variable 48 0.0\n",
      "variable 49 12.0\n",
      "variable 50 0.0\n",
      "variable 51 0.0\n",
      "variable 52 0.0\n",
      "variable 53 0.0\n",
      "variable 54 0.0\n",
      "variable 55 12.0\n",
      "variable 56 0.0\n",
      "variable 57 0.0\n",
      "variable 58 0.0\n",
      "variable 59 0.0\n",
      "variable 60 0.0\n",
      "variable 61 47.99999999999998\n",
      "variable 62 0.0\n",
      "variable 63 0.0\n",
      "variable 64 0.0\n",
      "variable 65 70.0\n"
     ]
    }
   ],
   "source": [
    "for i in range (0, len(X)):\n",
    "    print('variable', i, variables[i].solution_value())"
   ]
  },
  {
   "cell_type": "code",
   "execution_count": 120,
   "metadata": {},
   "outputs": [
    {
     "name": "stdout",
     "output_type": "stream",
     "text": [
      "Solution:\n",
      "Objective value = 0.0\n",
      "Number of variables = 66\n",
      "Number of constraints = 133\n",
      "\n",
      "Advanced usage:\n",
      "Problem solved in 54697.000000 milliseconds\n",
      "Problem solved in 0 iterations\n",
      "Problem solved in 0 branch-and-bound nodes\n",
      "x0 = 0.0\n",
      "x1 = 0.0\n"
     ]
    }
   ],
   "source": [
    "assert solver.VerifySolution(1e-7, True)\n",
    "\n",
    "print('Solution:')\n",
    "print('Objective value =', solver.Objective().Value())\n",
    "print('Number of variables =', solver.NumVariables())\n",
    "print('Number of constraints =', solver.NumConstraints())\n",
    "print('\\nAdvanced usage:')\n",
    "print('Problem solved in %f milliseconds' % solver.wall_time())\n",
    "print('Problem solved in %d iterations' % solver.iterations())\n",
    "print('Problem solved in %d branch-and-bound nodes' % solver.nodes())\n",
    "\n",
    "print('x0 =', variables[0].solution_value())\n",
    "print('x1 =', variables[1].solution_value())"
   ]
  },
  {
   "cell_type": "code",
   "execution_count": null,
   "metadata": {},
   "outputs": [],
   "source": []
  }
 ],
 "metadata": {
  "kernelspec": {
   "display_name": "Python 3",
   "language": "python",
   "name": "python3"
  },
  "language_info": {
   "codemirror_mode": {
    "name": "ipython",
    "version": 3
   },
   "file_extension": ".py",
   "mimetype": "text/x-python",
   "name": "python",
   "nbconvert_exporter": "python",
   "pygments_lexer": "ipython3",
   "version": "3.7.3"
  }
 },
 "nbformat": 4,
 "nbformat_minor": 2
}
